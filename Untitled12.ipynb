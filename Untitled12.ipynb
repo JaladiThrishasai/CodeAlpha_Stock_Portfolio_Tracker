{
 "cells": [
  {
   "cell_type": "code",
   "execution_count": 1,
   "id": "5eedf345",
   "metadata": {},
   "outputs": [
    {
     "name": "stdout",
     "output_type": "stream",
     "text": [
      "Requirement already satisfied: yfinance in c:\\users\\jalad\\anaconda3\\lib\\site-packages (0.2.41)\n",
      "Requirement already satisfied: pandas in c:\\users\\jalad\\anaconda3\\lib\\site-packages (2.0.3)\n",
      "Requirement already satisfied: numpy>=1.16.5 in c:\\users\\jalad\\anaconda3\\lib\\site-packages (from yfinance) (1.24.3)\n",
      "Requirement already satisfied: requests>=2.31 in c:\\users\\jalad\\anaconda3\\lib\\site-packages (from yfinance) (2.31.0)\n",
      "Requirement already satisfied: multitasking>=0.0.7 in c:\\users\\jalad\\anaconda3\\lib\\site-packages (from yfinance) (0.0.11)\n",
      "Requirement already satisfied: lxml>=4.9.1 in c:\\users\\jalad\\anaconda3\\lib\\site-packages (from yfinance) (4.9.3)\n",
      "Requirement already satisfied: platformdirs>=2.0.0 in c:\\users\\jalad\\anaconda3\\lib\\site-packages (from yfinance) (3.10.0)\n",
      "Requirement already satisfied: pytz>=2022.5 in c:\\users\\jalad\\anaconda3\\lib\\site-packages (from yfinance) (2023.3.post1)\n",
      "Requirement already satisfied: frozendict>=2.3.4 in c:\\users\\jalad\\anaconda3\\lib\\site-packages (from yfinance) (2.4.4)\n",
      "Requirement already satisfied: peewee>=3.16.2 in c:\\users\\jalad\\anaconda3\\lib\\site-packages (from yfinance) (3.17.6)\n",
      "Requirement already satisfied: beautifulsoup4>=4.11.1 in c:\\users\\jalad\\anaconda3\\lib\\site-packages (from yfinance) (4.12.2)\n",
      "Requirement already satisfied: html5lib>=1.1 in c:\\users\\jalad\\anaconda3\\lib\\site-packages (from yfinance) (1.1)\n",
      "Requirement already satisfied: python-dateutil>=2.8.2 in c:\\users\\jalad\\anaconda3\\lib\\site-packages (from pandas) (2.8.2)\n",
      "Requirement already satisfied: tzdata>=2022.1 in c:\\users\\jalad\\anaconda3\\lib\\site-packages (from pandas) (2023.3)\n",
      "Requirement already satisfied: soupsieve>1.2 in c:\\users\\jalad\\anaconda3\\lib\\site-packages (from beautifulsoup4>=4.11.1->yfinance) (2.4)\n",
      "Requirement already satisfied: six>=1.9 in c:\\users\\jalad\\anaconda3\\lib\\site-packages (from html5lib>=1.1->yfinance) (1.16.0)\n",
      "Requirement already satisfied: webencodings in c:\\users\\jalad\\anaconda3\\lib\\site-packages (from html5lib>=1.1->yfinance) (0.5.1)\n",
      "Requirement already satisfied: charset-normalizer<4,>=2 in c:\\users\\jalad\\anaconda3\\lib\\site-packages (from requests>=2.31->yfinance) (2.0.4)\n",
      "Requirement already satisfied: idna<4,>=2.5 in c:\\users\\jalad\\anaconda3\\lib\\site-packages (from requests>=2.31->yfinance) (3.4)\n",
      "Requirement already satisfied: urllib3<3,>=1.21.1 in c:\\users\\jalad\\anaconda3\\lib\\site-packages (from requests>=2.31->yfinance) (1.26.16)\n",
      "Requirement already satisfied: certifi>=2017.4.17 in c:\\users\\jalad\\anaconda3\\lib\\site-packages (from requests>=2.31->yfinance) (2023.7.22)\n",
      "Note: you may need to restart the kernel to use updated packages.\n"
     ]
    }
   ],
   "source": [
    "pip install yfinance pandas"
   ]
  },
  {
   "cell_type": "code",
   "execution_count": 4,
   "id": "7069df5e",
   "metadata": {},
   "outputs": [
    {
     "name": "stderr",
     "output_type": "stream",
     "text": [
      "[*********************100%%**********************]  3 of 3 completed"
     ]
    },
    {
     "name": "stdout",
     "output_type": "stream",
     "text": [
      "Current Prices:\n",
      "Ticker\n",
      "AAPL    215.509995\n",
      "MSFT    404.779999\n",
      "TSLA    198.319901\n",
      "Name: 2024-08-09 11:28:00-04:00, dtype: float64\n",
      "\n",
      "Portfolio Value: $9813.36\n"
     ]
    },
    {
     "name": "stderr",
     "output_type": "stream",
     "text": [
      "\n"
     ]
    }
   ],
   "source": [
    "import yfinance as yf\n",
    "import pandas as pd\n",
    "\n",
    "# Define your portfolio\n",
    "portfolio = {\n",
    "    'AAPL': 10,  # 10 shares of Apple\n",
    "    'MSFT': 15,  # 15 shares of Microsoft\n",
    "    'TSLA': 8,   # 8 shares of Tesla\n",
    "    # Add more stocks as needed\n",
    "}\n",
    "\n",
    "# Fetch current stock prices\n",
    "def fetch_prices(tickers):\n",
    "    data = yf.download(tickers, period='1d', interval='1m')['Adj Close']\n",
    "    return data.iloc[-1]  # Get the latest price\n",
    "\n",
    "# Calculate portfolio value\n",
    "def calculate_portfolio_value(portfolio, prices):\n",
    "    portfolio_value = sum([portfolio[ticker] * prices[ticker] for ticker in portfolio])\n",
    "    return portfolio_value\n",
    "\n",
    "# Main function\n",
    "def main(portfolio):\n",
    "    tickers = list(portfolio.keys())\n",
    "    prices = fetch_prices(tickers)\n",
    "    portfolio_value = calculate_portfolio_value(portfolio, prices)\n",
    "    \n",
    "    print(\"Current Prices:\")\n",
    "    print(prices)\n",
    "    print(\"\\nPortfolio Value: ${:.2f}\".format(portfolio_value))\n",
    "\n",
    "if __name__ == \"__main__\":\n",
    "    main(portfolio)"
   ]
  },
  {
   "cell_type": "code",
   "execution_count": null,
   "id": "5ce998e8",
   "metadata": {},
   "outputs": [],
   "source": []
  }
 ],
 "metadata": {
  "kernelspec": {
   "display_name": "Python 3 (ipykernel)",
   "language": "python",
   "name": "python3"
  },
  "language_info": {
   "codemirror_mode": {
    "name": "ipython",
    "version": 3
   },
   "file_extension": ".py",
   "mimetype": "text/x-python",
   "name": "python",
   "nbconvert_exporter": "python",
   "pygments_lexer": "ipython3",
   "version": "3.11.5"
  }
 },
 "nbformat": 4,
 "nbformat_minor": 5
}
